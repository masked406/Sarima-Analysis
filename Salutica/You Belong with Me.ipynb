{
 "cells": [
  {
   "cell_type": "code",
   "execution_count": 1,
   "metadata": {},
   "outputs": [],
   "source": [
    "import pandas as pd\n",
    "import matplotlib.pyplot as plt\n",
    "import numpy as np"
   ]
  },
  {
   "cell_type": "markdown",
   "metadata": {},
   "source": [
    "##### load data"
   ]
  },
  {
   "cell_type": "code",
   "execution_count": 2,
   "metadata": {},
   "outputs": [],
   "source": [
    "Passed_Morning_Left = pd.read_csv('./Data/Morning_Shift_Passed',header=None,index_col=None)"
   ]
  },
  {
   "cell_type": "code",
   "execution_count": 3,
   "metadata": {},
   "outputs": [
    {
     "data": {
      "text/html": [
       "<div>\n",
       "<style scoped>\n",
       "    .dataframe tbody tr th:only-of-type {\n",
       "        vertical-align: middle;\n",
       "    }\n",
       "\n",
       "    .dataframe tbody tr th {\n",
       "        vertical-align: top;\n",
       "    }\n",
       "\n",
       "    .dataframe thead th {\n",
       "        text-align: right;\n",
       "    }\n",
       "</style>\n",
       "<table border=\"1\" class=\"dataframe\">\n",
       "  <thead>\n",
       "    <tr style=\"text-align: right;\">\n",
       "      <th></th>\n",
       "      <th>0</th>\n",
       "      <th>1</th>\n",
       "    </tr>\n",
       "  </thead>\n",
       "  <tbody>\n",
       "    <tr>\n",
       "      <th>0</th>\n",
       "      <td>2018-10-05</td>\n",
       "      <td>7351</td>\n",
       "    </tr>\n",
       "    <tr>\n",
       "      <th>1</th>\n",
       "      <td>2018-10-06</td>\n",
       "      <td>0</td>\n",
       "    </tr>\n",
       "    <tr>\n",
       "      <th>2</th>\n",
       "      <td>2018-10-07</td>\n",
       "      <td>0</td>\n",
       "    </tr>\n",
       "    <tr>\n",
       "      <th>3</th>\n",
       "      <td>2018-10-08</td>\n",
       "      <td>240</td>\n",
       "    </tr>\n",
       "    <tr>\n",
       "      <th>4</th>\n",
       "      <td>2018-10-09</td>\n",
       "      <td>0</td>\n",
       "    </tr>\n",
       "  </tbody>\n",
       "</table>\n",
       "</div>"
      ],
      "text/plain": [
       "            0     1\n",
       "0  2018-10-05  7351\n",
       "1  2018-10-06     0\n",
       "2  2018-10-07     0\n",
       "3  2018-10-08   240\n",
       "4  2018-10-09     0"
      ]
     },
     "execution_count": 3,
     "metadata": {},
     "output_type": "execute_result"
    }
   ],
   "source": [
    "Passed_Morning_Left.head()"
   ]
  },
  {
   "cell_type": "code",
   "execution_count": 4,
   "metadata": {},
   "outputs": [],
   "source": [
    "Passed_Morning_Left.columns=['Date_Time','Passed_Morning_Left']"
   ]
  },
  {
   "cell_type": "code",
   "execution_count": 5,
   "metadata": {},
   "outputs": [
    {
     "data": {
      "text/html": [
       "<div>\n",
       "<style scoped>\n",
       "    .dataframe tbody tr th:only-of-type {\n",
       "        vertical-align: middle;\n",
       "    }\n",
       "\n",
       "    .dataframe tbody tr th {\n",
       "        vertical-align: top;\n",
       "    }\n",
       "\n",
       "    .dataframe thead th {\n",
       "        text-align: right;\n",
       "    }\n",
       "</style>\n",
       "<table border=\"1\" class=\"dataframe\">\n",
       "  <thead>\n",
       "    <tr style=\"text-align: right;\">\n",
       "      <th></th>\n",
       "      <th>Date_Time</th>\n",
       "      <th>Passed_Morning_Left</th>\n",
       "    </tr>\n",
       "  </thead>\n",
       "  <tbody>\n",
       "    <tr>\n",
       "      <th>0</th>\n",
       "      <td>2018-10-05</td>\n",
       "      <td>7351</td>\n",
       "    </tr>\n",
       "    <tr>\n",
       "      <th>1</th>\n",
       "      <td>2018-10-06</td>\n",
       "      <td>0</td>\n",
       "    </tr>\n",
       "    <tr>\n",
       "      <th>2</th>\n",
       "      <td>2018-10-07</td>\n",
       "      <td>0</td>\n",
       "    </tr>\n",
       "    <tr>\n",
       "      <th>3</th>\n",
       "      <td>2018-10-08</td>\n",
       "      <td>240</td>\n",
       "    </tr>\n",
       "    <tr>\n",
       "      <th>4</th>\n",
       "      <td>2018-10-09</td>\n",
       "      <td>0</td>\n",
       "    </tr>\n",
       "  </tbody>\n",
       "</table>\n",
       "</div>"
      ],
      "text/plain": [
       "    Date_Time  Passed_Morning_Left\n",
       "0  2018-10-05                 7351\n",
       "1  2018-10-06                    0\n",
       "2  2018-10-07                    0\n",
       "3  2018-10-08                  240\n",
       "4  2018-10-09                    0"
      ]
     },
     "execution_count": 5,
     "metadata": {},
     "output_type": "execute_result"
    }
   ],
   "source": [
    "Passed_Morning_Left.head()"
   ]
  },
  {
   "cell_type": "code",
   "execution_count": 6,
   "metadata": {},
   "outputs": [
    {
     "data": {
      "text/plain": [
       "<pandas.core.indexes.accessors.DatetimeProperties object at 0x7fd076745320>"
      ]
     },
     "execution_count": 6,
     "metadata": {},
     "output_type": "execute_result"
    }
   ],
   "source": [
    "Passed_Morning_Left['Date_Time'] = pd.to_datetime(Passed_Morning_Left['Date_Time'])\n",
    "Passed_Morning_Left['Date_Time'].dt"
   ]
  },
  {
   "cell_type": "code",
   "execution_count": 7,
   "metadata": {},
   "outputs": [],
   "source": [
    "Passed_Morning_Left.set_index('Date_Time', inplace=True)"
   ]
  },
  {
   "cell_type": "code",
   "execution_count": 8,
   "metadata": {},
   "outputs": [
    {
     "name": "stdout",
     "output_type": "stream",
     "text": [
      "<class 'pandas.core.frame.DataFrame'>\n",
      "DatetimeIndex: 196 entries, 2018-10-05 to 2019-04-18\n",
      "Data columns (total 1 columns):\n",
      "Passed_Morning_Left    196 non-null int64\n",
      "dtypes: int64(1)\n",
      "memory usage: 3.1 KB\n"
     ]
    }
   ],
   "source": [
    "Passed_Morning_Left.info()"
   ]
  },
  {
   "cell_type": "markdown",
   "metadata": {},
   "source": [
    "#### line plot"
   ]
  },
  {
   "cell_type": "code",
   "execution_count": 9,
   "metadata": {},
   "outputs": [
    {
     "data": {
      "image/png": "[encoded data removed]",
      "text/plain": [
       "<Figure size 432x288 with 1 Axes>"
      ]
     },
     "metadata": {
      "needs_background": "light"
     },
     "output_type": "display_data"
    }
   ],
   "source": [
    "Passed_Morning_Left.plot()\n",
    "plt.show()"
   ]
  },
  {
   "cell_type": "markdown",
   "metadata": {},
   "source": [
    "#### Split the dataset to TRAIN Set AND TEST Set"
   ]
  },
  {
   "cell_type": "code",
   "execution_count": 10,
   "metadata": {},
   "outputs": [],
   "source": [
    "percent_Train_set = 0.80"
   ]
  },
  {
   "cell_type": "code",
   "execution_count": 11,
   "metadata": {},
   "outputs": [],
   "source": [
    "split_point = round(len(Passed_Morning_Left)*percent_Train_set)"
   ]
  },
  {
   "cell_type": "code",
   "execution_count": 12,
   "metadata": {},
   "outputs": [],
   "source": [
    "train , test = Passed_Morning_Left[0:split_point], Passed_Morning_Left[split_point:]"
   ]
  },
  {
   "cell_type": "code",
   "execution_count": 13,
   "metadata": {},
   "outputs": [
    {
     "name": "stdout",
     "output_type": "stream",
     "text": [
      "The train 157, The test 39\n"
     ]
    }
   ],
   "source": [
    "print('The train %d, The test %d'% (len(train),(len(test))))"
   ]
  },
  {
   "cell_type": "markdown",
   "metadata": {},
   "source": [
    "#### differenced series"
   ]
  },
  {
   "cell_type": "code",
   "execution_count": 28,
   "metadata": {},
   "outputs": [],
   "source": [
    "def differenced(train,interval =1):\n",
    "    diff = list()\n",
    "    for i in range(interval, len(train)):\n",
    "        value = train[i] - train[i - interval]\n",
    "        diff.append(value)\n",
    "    return np.array(diff)"
   ]
  },
  {
   "cell_type": "markdown",
   "metadata": {},
   "source": [
    "#### invert differencing"
   ]
  },
  {
   "cell_type": "code",
   "execution_count": 29,
   "metadata": {},
   "outputs": [],
   "source": [
    "def inverse_differencing(history ,yhat,interval =1):\n",
    "    return yhat + history[-interval]"
   ]
  },
  {
   "cell_type": "code",
   "execution_count": 30,
   "metadata": {},
   "outputs": [],
   "source": [
    "import numpy as pd\n",
    "from statsmodels.tsa.arima_model import ARIMA"
   ]
  },
  {
   "cell_type": "code",
   "execution_count": 31,
   "metadata": {},
   "outputs": [],
   "source": [
    "X = train.values"
   ]
  },
  {
   "cell_type": "code",
   "execution_count": 32,
   "metadata": {},
   "outputs": [],
   "source": [
    "#Total_days = 30"
   ]
  },
  {
   "cell_type": "code",
   "execution_count": 33,
   "metadata": {},
   "outputs": [],
   "source": [
    "differenced = differenced(X,30)"
   ]
  },
  {
   "cell_type": "markdown",
   "metadata": {},
   "source": [
    "#### fit model"
   ]
  },
  {
   "cell_type": "code",
   "execution_count": 38,
   "metadata": {},
   "outputs": [],
   "source": [
    "model = ARIMA(differenced, order=(7,0,1))\n",
    "model_fit = model.fit(disp=0)"
   ]
  },
  {
   "cell_type": "code",
   "execution_count": 39,
   "metadata": {},
   "outputs": [
    {
     "name": "stdout",
     "output_type": "stream",
     "text": [
      "                              ARMA Model Results                              \n",
      "==============================================================================\n",
      "Dep. Variable:                      y   No. Observations:                  127\n",
      "Model:                     ARMA(7, 1)   Log Likelihood               -1490.559\n",
      "Method:                       css-mle   S.D. of innovations          30038.759\n",
      "Date:                Fri, 11 Oct 2019   AIC                           3001.117\n",
      "Time:                        08:05:24   BIC                           3029.559\n",
      "Sample:                             0   HQIC                          3012.673\n",
      "                                                                              \n",
      "==============================================================================\n",
      "                 coef    std err          z      P>|z|      [0.025      0.975]\n",
      "------------------------------------------------------------------------------\n",
      "const       8645.0709   9514.021      0.909      0.365      -1e+04    2.73e+04\n",
      "ar.L1.y        0.3414      0.193      1.765      0.080      -0.038       0.721\n",
      "ar.L2.y       -0.0036      0.154     -0.024      0.981      -0.306       0.298\n",
      "ar.L3.y       -0.0875      0.095     -0.921      0.359      -0.274       0.099\n",
      "ar.L4.y       -0.1187      0.089     -1.329      0.186      -0.294       0.056\n",
      "ar.L5.y        0.1260      0.091      1.379      0.171      -0.053       0.305\n",
      "ar.L6.y        0.1029      0.094      1.096      0.275      -0.081       0.287\n",
      "ar.L7.y        0.2907      0.088      3.296      0.001       0.118       0.463\n",
      "ma.L1.y        0.3243      0.188      1.722      0.088      -0.045       0.693\n",
      "                                    Roots                                    \n",
      "=============================================================================\n",
      "                  Real          Imaginary           Modulus         Frequency\n",
      "-----------------------------------------------------------------------------\n",
      "AR.1            1.0933           -0.0000j            1.0933           -0.0000\n",
      "AR.2            0.6700           -0.8379j            1.0728           -0.1426\n",
      "AR.3            0.6700           +0.8379j            1.0728            0.1426\n",
      "AR.4           -1.1011           -0.5992j            1.2536           -0.4207\n",
      "AR.5           -1.1011           +0.5992j            1.2536            0.4207\n",
      "AR.6           -0.2925           -1.2863j            1.3191           -0.2856\n",
      "AR.7           -0.2925           +1.2863j            1.3191            0.2856\n",
      "MA.1           -3.0840           +0.0000j            3.0840            0.5000\n",
      "-----------------------------------------------------------------------------\n"
     ]
    }
   ],
   "source": [
    "print(model_fit.summary())"
   ]
  },
  {
   "cell_type": "markdown",
   "metadata": {},
   "source": [
    "#### forecast"
   ]
  },
  {
   "cell_type": "code",
   "execution_count": 40,
   "metadata": {},
   "outputs": [],
   "source": [
    "forecast = model_fit.forecast()[0]"
   ]
  },
  {
   "cell_type": "code",
   "execution_count": 41,
   "metadata": {},
   "outputs": [],
   "source": [
    "forecast = inverse_differencing(X,forecast,30)"
   ]
  },
  {
   "cell_type": "code",
   "execution_count": 42,
   "metadata": {},
   "outputs": [
    {
     "name": "stdout",
     "output_type": "stream",
     "text": [
      "forecast: 27752.581389\n"
     ]
    }
   ],
   "source": [
    "print('forecast: %f' %forecast)"
   ]
  },
  {
   "cell_type": "code",
   "execution_count": 44,
   "metadata": {},
   "outputs": [],
   "source": [
    "start_index = len(differenced)\n",
    "end_index = len(differenced)\n",
    "forecast = model_fit.predict(start=start_index, end=end_index)"
   ]
  },
  {
   "cell_type": "code",
   "execution_count": 46,
   "metadata": {},
   "outputs": [],
   "source": [
    "forecast = model_fit.forecast(steps=39)[0]"
   ]
  },
  {
   "cell_type": "code",
   "execution_count": 47,
   "metadata": {},
   "outputs": [],
   "source": [
    "history = [x for x in X]"
   ]
  },
  {
   "cell_type": "code",
   "execution_count": 48,
   "metadata": {},
   "outputs": [],
   "source": [
    "day = 1"
   ]
  },
  {
   "cell_type": "code",
   "execution_count": 49,
   "metadata": {},
   "outputs": [
    {
     "name": "stdout",
     "output_type": "stream",
     "text": [
      "Day 1 : 27752.581389\n",
      "Day 2 : 49372.104583\n",
      "Day 3 : 47745.050586\n",
      "Day 4 : 104408.598783\n",
      "Day 5 : 81328.884775\n",
      "Day 6 : 76279.763564\n",
      "Day 7 : 80411.378632\n",
      "Day 8 : 17458.854756\n",
      "Day 9 : 31856.128252\n",
      "Day 10 : 104855.781872\n",
      "Day 11 : 95840.662608\n",
      "Day 12 : 70590.918835\n",
      "Day 13 : 34666.730515\n",
      "Day 14 : 4363.784162\n",
      "Day 15 : 13121.243746\n",
      "Day 16 : 21853.057731\n",
      "Day 17 : 102576.752451\n",
      "Day 18 : 79074.713724\n",
      "Day 19 : 85737.898686\n",
      "Day 20 : 87554.959594\n",
      "Day 21 : 5642.740429\n",
      "Day 22 : 10932.027146\n",
      "Day 23 : 16231.265035\n",
      "Day 24 : 93010.205760\n",
      "Day 25 : 88480.438837\n",
      "Day 26 : 74043.439910\n",
      "Day 27 : 82073.266965\n",
      "Day 28 : 15772.221873\n",
      "Day 29 : 9791.615899\n",
      "Day 30 : 13035.811399\n",
      "Day 31 : 41514.161161\n",
      "Day 32 : 61106.016878\n",
      "Day 33 : 56391.239317\n",
      "Day 34 : 111149.685208\n",
      "Day 35 : 88477.982455\n",
      "Day 36 : 85484.144032\n",
      "Day 37 : 91611.177898\n",
      "Day 38 : 29135.972768\n",
      "Day 39 : 42313.515584\n"
     ]
    }
   ],
   "source": [
    "for yhat in forecast:\n",
    "    inverted = inverse_differencing(history,yhat,30)\n",
    "    print('Day %d : %f' %(day,inverted))\n",
    "    history.append(inverted)\n",
    "    day +=1"
   ]
  },
  {
   "cell_type": "code",
   "execution_count": 52,
   "metadata": {},
   "outputs": [],
   "source": [
    "start_index = len(differenced)\n",
    "end_index = start_index + 10\n",
    "forecast = model_fit.predict(start=start_index,end=end_index)"
   ]
  },
  {
   "cell_type": "code",
   "execution_count": 54,
   "metadata": {},
   "outputs": [
    {
     "name": "stdout",
     "output_type": "stream",
     "text": [
      "Day 40 : 132608.363261\n",
      "Day 41 : 145212.767191\n",
      "Day 42 : 118335.969421\n",
      "Day 43 : 74517.329298\n",
      "Day 44 : 15906.668937\n",
      "Day 45 : 13392.007310\n",
      "Day 46 : 24842.436363\n",
      "Day 47 : 120035.607207\n",
      "Day 48 : 110930.841976\n",
      "Day 49 : 118703.680558\n",
      "Day 50 : 112630.622202\n"
     ]
    }
   ],
   "source": [
    "for yhat in forecast:\n",
    "    inverted = inverse_differencing(history,yhat,30)\n",
    "    print('Day %d : %f' %(day,inverted))\n",
    "    history.append(inverted)\n",
    "    day +=1"
   ]
  },
  {
   "cell_type": "code",
   "execution_count": null,
   "metadata": {},
   "outputs": [],
   "source": []
  }
 ],
 "metadata": {
  "kernelspec": {
   "display_name": "Python 3",
   "language": "python",
   "name": "python3"
  },
  "language_info": {
   "codemirror_mode": {
    "name": "ipython",
    "version": 3
   },
   "file_extension": ".py",
   "mimetype": "text/x-python",
   "name": "python",
   "nbconvert_exporter": "python",
   "pygments_lexer": "ipython3",
   "version": "3.7.3"
  }
 },
 "nbformat": 4,
 "nbformat_minor": 2
}
